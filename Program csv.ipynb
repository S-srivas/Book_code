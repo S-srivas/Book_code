{
 "cells": [
  {
   "cell_type": "code",
   "execution_count": 5,
   "metadata": {},
   "outputs": [
    {
     "name": "stdout",
     "output_type": "stream",
     "text": [
      "0 ['Musical', ' Writer', ' Scale']\n",
      "1 ['Hamilton', ' \"Miranda\"', ' 6']\n",
      "2 ['Hadestown', ' \"Mitchell\"', ' 5']\n",
      "3 ['Mean Girls', 'Fey, 8\\nBeetlejuice\"', ' \"King\"', ' 3']\n",
      "4 ['Anastasia', ' \"McNally\"', ' 4']\n",
      "5 ['Waitress', ' \"Barailles\"', ' 7']\n",
      "6 ['Six', ' \"Moss\"', ' 2']\n",
      "DONE!\n"
     ]
    }
   ],
   "source": [
    "import csv\n",
    "with open ('list.csv', encoding='utf-8', newline='') as f:\n",
    "    reader = enumerate(csv.reader(f))\n",
    "    for i, row in reader:\n",
    "        print (i, row)\n",
    "    print ('DONE!')"
   ]
  },
  {
   "cell_type": "code",
   "execution_count": 6,
   "metadata": {},
   "outputs": [],
   "source": [
    "if i > 0:\n",
    "    full_name = row[0].split(',')\n",
    "    last_name = full_name[0].strip()\n",
    "    fist_name=full_name[0].strip()"
   ]
  },
  {
   "cell_type": "code",
   "execution_count": 7,
   "metadata": {},
   "outputs": [
    {
     "name": "stdout",
     "output_type": "stream",
     "text": [
      "Index Error\n",
      " \n",
      "Index Error\n",
      " \n",
      "Index Error\n",
      " \n",
      "Index Error\n",
      " \n",
      "Index Error\n",
      " \n",
      "Index Error\n",
      " \n",
      "DONE!\n"
     ]
    }
   ],
   "source": [
    "import csv\n",
    "with open ('list.csv', encoding='utf-8', newline='') as f:\n",
    "    reader = enumerate(csv.reader(f))\n",
    "    for i, row in reader:\n",
    "        if i > 0:\n",
    "            try:\n",
    "                full_name = row[0].split(',')\n",
    "                last_name = full_name[0].strip()\n",
    "                fist_name=full_name[1].strip()\n",
    "            except IndexError:\n",
    "                print ('Index Error')\n",
    "                full_name = last_name = first_name = \"\"\n",
    "            print (first_name, last_name)\n",
    "    print ('DONE!')"
   ]
  },
  {
   "cell_type": "code",
   "execution_count": 8,
   "metadata": {},
   "outputs": [
    {
     "name": "stdout",
     "output_type": "stream",
     "text": [
      "Hamilton Hamilton None\n",
      "Hadestown Hadestown None\n",
      "Mean Girls Mean Girls None\n",
      "Anastasia Anastasia None\n",
      "Waitress Waitress None\n",
      "Six Six None\n"
     ]
    }
   ],
   "source": [
    "import csv\n",
    "import datetime as dt\n",
    "\n",
    "with open('list.csv', encoding='utf-8') as f:\n",
    "    reader = enumerate(csv.reader(f))\n",
    "    \n",
    "    for i, row in reader:\n",
    "        if i> 0:\n",
    "            try:\n",
    "                full_name = row[0].split(',')\n",
    "                last_name = full_name[0].strip()\n",
    "                first_name = full_name[0].strip()\n",
    "            except IndexError:\n",
    "                fullname = last_name = fist_name = ''\n",
    "                #birth_year = int(row[0] or 0)\n",
    "            try:\n",
    "                date_joined = dt.datetime.strptime(row[1], '%m%d%Y').date()\n",
    "            except ValueError:\n",
    "                date_joined = None\n",
    "            print(first_name, last_name, date_joined)"
   ]
  },
  {
   "cell_type": "code",
   "execution_count": 9,
   "metadata": {},
   "outputs": [],
   "source": [
    "is_active=bool(row[1])"
   ]
  },
  {
   "cell_type": "code",
   "execution_count": 10,
   "metadata": {},
   "outputs": [],
   "source": [
    "str_balance = (row[1].replace('3','').replace(',','')).strip()"
   ]
  },
  {
   "cell_type": "code",
   "execution_count": 14,
   "metadata": {},
   "outputs": [
    {
     "ename": "TypeError",
     "evalue": "__init__() missing 2 required positional arguments: 'is_active' and 'balance'",
     "output_type": "error",
     "traceback": [
      "\u001b[1;31m---------------------------------------------------------------------------\u001b[0m",
      "\u001b[1;31mTypeError\u001b[0m                                 Traceback (most recent call last)",
      "\u001b[1;32m<ipython-input-14-714f98d938f1>\u001b[0m in \u001b[0;36m<module>\u001b[1;34m()\u001b[0m\n\u001b[0;32m     40\u001b[0m     \u001b[0mf\u001b[0m\u001b[1;33m.\u001b[0m\u001b[0mreadline\u001b[0m\u001b[1;33m\u001b[0m\u001b[0m\n\u001b[0;32m     41\u001b[0m     \u001b[1;32mfor\u001b[0m \u001b[0mi\u001b[0m\u001b[1;33m,\u001b[0m \u001b[0mrow\u001b[0m \u001b[1;32min\u001b[0m \u001b[0mreader\u001b[0m\u001b[1;33m:\u001b[0m\u001b[1;33m\u001b[0m\u001b[0m\n\u001b[1;32m---> 42\u001b[1;33m         \u001b[0mpeople\u001b[0m\u001b[1;33m.\u001b[0m\u001b[0mappend\u001b[0m\u001b[1;33m(\u001b[0m\u001b[0mPerson\u001b[0m\u001b[1;33m(\u001b[0m\u001b[0mi\u001b[0m\u001b[1;33m,\u001b[0m \u001b[0mfname\u001b[0m\u001b[1;33m(\u001b[0m\u001b[0mrow\u001b[0m\u001b[1;33m[\u001b[0m\u001b[1;36m0\u001b[0m\u001b[1;33m]\u001b[0m\u001b[1;33m)\u001b[0m\u001b[1;33m,\u001b[0m \u001b[0mlname\u001b[0m\u001b[1;33m(\u001b[0m\u001b[0mrow\u001b[0m\u001b[1;33m[\u001b[0m\u001b[1;36m0\u001b[0m\u001b[1;33m]\u001b[0m\u001b[1;33m)\u001b[0m\u001b[1;33m,\u001b[0m \u001b[0mdate\u001b[0m\u001b[1;33m(\u001b[0m\u001b[0mrow\u001b[0m\u001b[1;33m[\u001b[0m\u001b[1;36m1\u001b[0m\u001b[1;33m]\u001b[0m\u001b[1;33m)\u001b[0m\u001b[1;33m,\u001b[0m \u001b[0mboolean\u001b[0m\u001b[1;33m(\u001b[0m\u001b[0mrow\u001b[0m\u001b[1;33m[\u001b[0m\u001b[1;36m2\u001b[0m\u001b[1;33m]\u001b[0m\u001b[1;33m)\u001b[0m\u001b[1;33m,\u001b[0m\u001b[1;33m)\u001b[0m\u001b[1;33m)\u001b[0m\u001b[1;33m\u001b[0m\u001b[0m\n\u001b[0m\u001b[0;32m     43\u001b[0m \u001b[1;32mfor\u001b[0m \u001b[0mp\u001b[0m \u001b[1;32min\u001b[0m \u001b[0mpeople\u001b[0m\u001b[1;33m:\u001b[0m\u001b[1;33m\u001b[0m\u001b[0m\n\u001b[0;32m     44\u001b[0m     \u001b[0mprint\u001b[0m\u001b[1;33m(\u001b[0m\u001b[0mp\u001b[0m\u001b[1;33m.\u001b[0m\u001b[0mid\u001b[0m\u001b[1;33m,\u001b[0m \u001b[0mp\u001b[0m\u001b[1;33m.\u001b[0m\u001b[0mfirst_name\u001b[0m\u001b[1;33m,\u001b[0m \u001b[0mp\u001b[0m\u001b[1;33m.\u001b[0m\u001b[0mlast_name\u001b[0m\u001b[1;33m,\u001b[0m \u001b[0mp\u001b[0m\u001b[1;33m.\u001b[0m\u001b[0mbirth_year\u001b[0m\u001b[1;33m,\u001b[0m \u001b[0mp\u001b[0m\u001b[1;33m.\u001b[0m\u001b[0mdate_joined\u001b[0m\u001b[1;33m,\u001b[0m \u001b[0mp\u001b[0m\u001b[1;33m.\u001b[0m\u001b[0mis_active\u001b[0m\u001b[1;33m,\u001b[0m \u001b[0mp\u001b[0m\u001b[1;33m.\u001b[0m\u001b[0mbalance\u001b[0m\u001b[1;33m)\u001b[0m\u001b[1;33m\u001b[0m\u001b[0m\n",
      "\u001b[1;31mTypeError\u001b[0m: __init__() missing 2 required positional arguments: 'is_active' and 'balance'"
     ]
    }
   ],
   "source": [
    "import datetime as dt\n",
    "import csv\n",
    "\n",
    "def fname(any):\n",
    "    try:\n",
    "        nm = any.split(',')\n",
    "        return nm[1]\n",
    "    except IndexError:\n",
    "        return ''\n",
    "def lname(any):\n",
    "    try:\n",
    "        nm = any.split(',')\n",
    "        return nm[0]\n",
    "    except IndexError:\n",
    "        return ''\n",
    "#def integer(any):\n",
    "    #return int(any or 0)\n",
    "def date(any):\n",
    "    try:\n",
    "        return dt.datetime.strptime(any, \"%m,%d,%Y\").date()\n",
    "    except ValueError:\n",
    "        return None\n",
    "def boolean(any):\n",
    "    return bool(any)\n",
    "def floatnum(any):\n",
    "    s_balance = (any.replace('$','').replace('','')).strip()\n",
    "    #return float(s_balance or 0)\n",
    "people = []\n",
    "class Person:\n",
    "    def __init__(self, id, first_name, last_name, birth_year, date_joined, is_active, balance):\n",
    "        self.id = id\n",
    "        self.first_name = first_name\n",
    "        self.last_name = last_name\n",
    "        self.birth_year = birth_year\n",
    "        self.date_joimed = date_joined\n",
    "        self.is_active = is_active\n",
    "        self.balance = balance\n",
    "with open('list.csv', encoding='utf-8', newline ='') as f:\n",
    "    reader = enumerate(csv.reader(f))\n",
    "    f.readline\n",
    "    for i, row in reader:\n",
    "        people.append(Person(i, fname(row[0]), lname(row[0]), date(row[1]), boolean(row[2]),))\n",
    "for p in people:\n",
    "    print(p.id, p.first_name, p.last_name, p.birth_year, p.date_joined, p.is_active, p.balance)"
   ]
  },
  {
   "cell_type": "code",
   "execution_count": null,
   "metadata": {},
   "outputs": [],
   "source": []
  }
 ],
 "metadata": {
  "kernelspec": {
   "display_name": "Python 3",
   "language": "python",
   "name": "python3"
  },
  "language_info": {
   "codemirror_mode": {
    "name": "ipython",
    "version": 3
   },
   "file_extension": ".py",
   "mimetype": "text/x-python",
   "name": "python",
   "nbconvert_exporter": "python",
   "pygments_lexer": "ipython3",
   "version": "3.6.4"
  }
 },
 "nbformat": 4,
 "nbformat_minor": 2
}
